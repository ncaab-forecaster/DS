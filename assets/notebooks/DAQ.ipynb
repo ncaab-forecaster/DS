{
 "cells": [
  {
   "cell_type": "code",
   "execution_count": 210,
   "metadata": {},
   "outputs": [
    {
     "ename": "ModuleNotFoundError",
     "evalue": "No module named 'seaborn'",
     "output_type": "error",
     "traceback": [
      "\u001b[1;31m---------------------------------------------------------------------------\u001b[0m",
      "\u001b[1;31mModuleNotFoundError\u001b[0m                       Traceback (most recent call last)",
      "\u001b[1;32m<ipython-input-210-fce6ab26c8ac>\u001b[0m in \u001b[0;36m<module>\u001b[1;34m\u001b[0m\n\u001b[0;32m      7\u001b[0m \u001b[1;32mimport\u001b[0m \u001b[0mos\u001b[0m\u001b[1;33m\u001b[0m\u001b[0m\n\u001b[0;32m      8\u001b[0m \u001b[1;32mimport\u001b[0m \u001b[0mtime\u001b[0m\u001b[1;33m\u001b[0m\u001b[0m\n\u001b[1;32m----> 9\u001b[1;33m \u001b[1;32mimport\u001b[0m \u001b[0mseaborn\u001b[0m \u001b[1;32mas\u001b[0m \u001b[0msns\u001b[0m\u001b[1;33m\u001b[0m\u001b[0m\n\u001b[0m",
      "\u001b[1;31mModuleNotFoundError\u001b[0m: No module named 'seaborn'"
     ]
    }
   ],
   "source": [
    "import pandas as pd\n",
    "pd.set_option('display.max_rows', 500)\n",
    "pd.set_option('display.max_columns', 500)\n",
    "import numpy as np\n",
    "from datetime import datetime\n",
    "from sportsreference.ncaab.boxscore import Boxscore, Boxscores\n",
    "import os \n",
    "import time\n",
    "import seaborn as sns"
   ]
  },
  {
   "cell_type": "code",
   "execution_count": 30,
   "metadata": {},
   "outputs": [],
   "source": [
    "PATH = os.getcwd()\n",
    "compact = pd.read_csv(PATH + '//data//boxscores-compact-2010-2019.csv')"
   ]
  },
  {
   "cell_type": "code",
   "execution_count": 71,
   "metadata": {},
   "outputs": [],
   "source": [
    "compact_boxscores = Boxscores(datetime(2010, 10, 15), datetime(2020, 1, 17)).games"
   ]
  },
  {
   "cell_type": "code",
   "execution_count": null,
   "metadata": {},
   "outputs": [],
   "source": [
    "df_lists = []\n",
    "for date in compact_boxscore:\n",
    "      df = pd.DataFrame(compact_boxscores[date])\n",
    "      df['date'] = date\n",
    "      df.set_index('date', inplace = True)\n",
    "      df_lists.append(df)\n",
    "    \n",
    "compact = pd.concat(df_lists, join='outer', axis=0, sort=False)\n",
    "compact = compact.drop_duplicates()"
   ]
  },
  {
   "cell_type": "code",
   "execution_count": null,
   "metadata": {},
   "outputs": [],
   "source": [
    "URIs = recent_compact['boxscore'].to_list() # URIs for retrieving detailed boxscores\n",
    "detailed = pd.DataFrame() # new dataframe\n",
    "\n",
    "checkpoint = 200 # save to csv file every 200 posts\n",
    "for i, URI in enumerate(URIs):\n",
    "    \n",
    "    try:\n",
    "        new = Boxscore(URI).dataframe # retrieved new detailed boxscore dataframe\n",
    "        detailed = pd.concat([detailed, new]) # add to master df\n",
    "        print('\\r', f'collected {i+1} of {len(URIs)}', end=\"\" ) # progress\n",
    "    except Exception as ex:        \n",
    "        print('\\n', ex, '\\n') # exception handling - print the exception but continue collecting data\n",
    "        continue\n",
    "        \n",
    "    if (i % checkpoint == 0) & (i != 0):  # saving logic\n",
    "        try:\n",
    "            detailed.to_csv('detailed-boxscores')\n",
    "            time.sleep(1)\n",
    "            checkpoint = 200\n",
    "        except Exception as ex:   # if save fails try again every 50 retrievals until successful\n",
    "            print('\\n', ex, '\\n')\n",
    "            checkpoint = 50\n",
    "            continue"
   ]
  },
  {
   "cell_type": "code",
   "execution_count": 85,
   "metadata": {},
   "outputs": [],
   "source": [
    "detailed.to_csv('detailed_boxscores_2010-to-15-1-2020.csv') # save the final list"
   ]
  },
  {
   "cell_type": "code",
   "execution_count": 100,
   "metadata": {},
   "outputs": [],
   "source": [
    "# Boxscore URI is index here, reset to column to merge with compact later\n",
    "detailed = detailed.reset_index().rename(columns={'index':'boxscore'})\n",
    "detailed = detailed.drop_duplicates() # remove dupes"
   ]
  },
  {
   "cell_type": "code",
   "execution_count": 177,
   "metadata": {},
   "outputs": [],
   "source": [
    "# create a list of exclusive columns for each dataframe\n",
    "detailed_cols = list(detailed.columns)\n",
    "compact_cols = list(compact.columns)\n",
    "compact_cols_exclusive = ['boxscore'] + [col for col in compact_cols if col not in detailed_cols]\n",
    "compact_cols_exclusive.remove('home_abbr')\n",
    "compact_cols_exclusive.remove('away_abbr')\n",
    "detailed_cols_exclusive = ['boxscore', 'date'] + [col for col in detailed_cols if col not in compact_cols]\n",
    "detailed_cols_exclusive.remove('home_ranking')\n",
    "detailed_cols_exclusive.remove('away_ranking')\n",
    "detailed_cols_exclusive.remove('home_points')\n",
    "detailed_cols_exclusive.remove('away_points')"
   ]
  },
  {
   "cell_type": "code",
   "execution_count": 178,
   "metadata": {},
   "outputs": [],
   "source": [
    "# slice dfs for their exclusive columns\n",
    "detailed_exclusive = detailed[detailed_cols_exclusive]\n",
    "compact_exclusive = compact[compact_cols_exclusive]"
   ]
  },
  {
   "cell_type": "code",
   "execution_count": 179,
   "metadata": {},
   "outputs": [],
   "source": [
    "combined = pd.merge(compact_exclusive, detailed_exclusive, how='inner', on='boxscore')"
   ]
  },
  {
   "cell_type": "code",
   "execution_count": 188,
   "metadata": {},
   "outputs": [],
   "source": [
    "# column for home or away win\n",
    "combined['home_win'] = combined['winner'].apply(lambda x: 1 if x == 'Home' else 0)\n",
    "combined['away_win'] = combined['winner'].apply(lambda x: 1 if x == 'Away' else 0)\n",
    "combined = combined.drop(columns='winner')"
   ]
  },
  {
   "cell_type": "code",
   "execution_count": 207,
   "metadata": {},
   "outputs": [
    {
     "name": "stdout",
     "output_type": "stream",
     "text": [
      "count    56450.000000\n",
      "mean         0.666997\n",
      "std          0.471292\n",
      "min          0.000000\n",
      "25%          0.000000\n",
      "50%          1.000000\n",
      "75%          1.000000\n",
      "max          1.000000\n",
      "Name: home_win, dtype: float64\n",
      "\n",
      "count    56450.000000\n",
      "mean         0.333003\n",
      "std          0.471292\n",
      "min          0.000000\n",
      "25%          0.000000\n",
      "50%          0.000000\n",
      "75%          1.000000\n",
      "max          1.000000\n",
      "Name: away_win, dtype: float64\n"
     ]
    }
   ],
   "source": [
    "print(combined['home_win'].describe(), end='\\n\\n')\n",
    "print(combined['away_win'].describe())"
   ]
  },
  {
   "cell_type": "code",
   "execution_count": 270,
   "metadata": {},
   "outputs": [],
   "source": [
    "home_cols = [col for col in combined.columns if col.split('_')[0] == 'home']\n",
    "away_cols = [col for col in combined.columns if col.split('_')[0] == 'away']"
   ]
  },
  {
   "cell_type": "code",
   "execution_count": null,
   "metadata": {},
   "outputs": [],
   "source": [
    "home = combined[['boxscore', 'date']+home_cols+['pace']]\n",
    "home['playing_as'] = 'HOME'\n",
    "away = combined[['boxscore', 'date']+away_cols+['pace']]\n",
    "away['playing_as'] = 'AWAY'"
   ]
  },
  {
   "cell_type": "code",
   "execution_count": 272,
   "metadata": {},
   "outputs": [],
   "source": [
    "team_cols = ['_'.join(col.split('_')[1:]) for col in home_cols]\n",
    "team_cols = ['boxscore', 'date'] + team_cols + ['pace', 'playing_as']"
   ]
  },
  {
   "cell_type": "code",
   "execution_count": 260,
   "metadata": {},
   "outputs": [],
   "source": [
    "home.columns = team_cols\n",
    "away.columns = team_cols"
   ]
  },
  {
   "cell_type": "code",
   "execution_count": 273,
   "metadata": {},
   "outputs": [],
   "source": [
    "home.columns = team_cols\n",
    "away.columns = team_cols\n",
    "teams = pd.concat([home, away])\n",
    "teams = teams[['boxscore', 'date', 'name', 'playing_as'] + list(teams.columns)[3:-1]]\n"
   ]
  },
  {
   "cell_type": "code",
   "execution_count": 276,
   "metadata": {},
   "outputs": [],
   "source": [
    "teams = teams.sort_values(by=['boxscore'])\n",
    "teams.to_csv('team-individual-boxscores-2010-to-01-17-2020.csv', index=False)"
   ]
  },
  {
   "cell_type": "code",
   "execution_count": 278,
   "metadata": {},
   "outputs": [],
   "source": [
    "combined.to_csv('combined-boxscores-2010-to-01-17-2020.csv', index=False)"
   ]
  },
  {
   "cell_type": "code",
   "execution_count": 280,
   "metadata": {},
   "outputs": [],
   "source": [
    "detailed.to_csv('detailed-boxscores-2010-to-01-17-2020.csv', index=False)\n",
    "compact.to_csv('compact-boxscores-2010-to-01-17-2020.csv', index=False)"
   ]
  },
  {
   "cell_type": "code",
   "execution_count": 282,
   "metadata": {},
   "outputs": [
    {
     "data": {
      "text/html": [
       "<div>\n",
       "<style scoped>\n",
       "    .dataframe tbody tr th:only-of-type {\n",
       "        vertical-align: middle;\n",
       "    }\n",
       "\n",
       "    .dataframe tbody tr th {\n",
       "        vertical-align: top;\n",
       "    }\n",
       "\n",
       "    .dataframe thead th {\n",
       "        text-align: right;\n",
       "    }\n",
       "</style>\n",
       "<table border=\"1\" class=\"dataframe\">\n",
       "  <thead>\n",
       "    <tr style=\"text-align: right;\">\n",
       "      <th></th>\n",
       "      <th>away_abbr</th>\n",
       "      <th>away_name</th>\n",
       "      <th>away_rank</th>\n",
       "      <th>away_score</th>\n",
       "      <th>boxscore</th>\n",
       "      <th>date</th>\n",
       "      <th>home_abbr</th>\n",
       "      <th>home_name</th>\n",
       "      <th>home_rank</th>\n",
       "      <th>home_score</th>\n",
       "      <th>losing_abbr</th>\n",
       "      <th>losing_name</th>\n",
       "      <th>non_di</th>\n",
       "      <th>top_25</th>\n",
       "      <th>winning_abbr</th>\n",
       "      <th>winning_name</th>\n",
       "    </tr>\n",
       "  </thead>\n",
       "  <tbody>\n",
       "    <tr>\n",
       "      <th>0</th>\n",
       "      <td>rhode-island</td>\n",
       "      <td>Rhode Island</td>\n",
       "      <td>NaN</td>\n",
       "      <td>75.0</td>\n",
       "      <td>2010-11-08-pittsburgh</td>\n",
       "      <td>2010-11-08</td>\n",
       "      <td>pittsburgh</td>\n",
       "      <td>Pitt</td>\n",
       "      <td>5</td>\n",
       "      <td>83.0</td>\n",
       "      <td>rhode-island</td>\n",
       "      <td>Rhode Island</td>\n",
       "      <td>False</td>\n",
       "      <td>True</td>\n",
       "      <td>pittsburgh</td>\n",
       "      <td>Pitt</td>\n",
       "    </tr>\n",
       "  </tbody>\n",
       "</table>\n",
       "</div>"
      ],
      "text/plain": [
       "      away_abbr     away_name away_rank  away_score               boxscore  \\\n",
       "0  rhode-island  Rhode Island       NaN        75.0  2010-11-08-pittsburgh   \n",
       "\n",
       "        date   home_abbr home_name home_rank  home_score   losing_abbr  \\\n",
       "0 2010-11-08  pittsburgh      Pitt         5        83.0  rhode-island   \n",
       "\n",
       "    losing_name  non_di  top_25 winning_abbr winning_name  \n",
       "0  Rhode Island   False    True   pittsburgh         Pitt  "
      ]
     },
     "execution_count": 282,
     "metadata": {},
     "output_type": "execute_result"
    }
   ],
   "source": [
    "compact.head(1)"
   ]
  },
  {
   "cell_type": "code",
   "execution_count": null,
   "metadata": {},
   "outputs": [],
   "source": []
  }
 ],
 "metadata": {
  "kernelspec": {
   "display_name": "Sports-Genie (Python3)",
   "language": "python",
   "name": "sports-genie"
  },
  "language_info": {
   "codemirror_mode": {
    "name": "ipython",
    "version": 3
   },
   "file_extension": ".py",
   "mimetype": "text/x-python",
   "name": "python",
   "nbconvert_exporter": "python",
   "pygments_lexer": "ipython3",
   "version": "3.7.0"
  }
 },
 "nbformat": 4,
 "nbformat_minor": 4
}
